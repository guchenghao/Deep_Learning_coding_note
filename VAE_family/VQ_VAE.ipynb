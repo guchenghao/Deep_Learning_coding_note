{
 "cells": [
  {
   "cell_type": "code",
   "execution_count": null,
   "metadata": {},
   "outputs": [],
   "source": [
    "import math\n",
    "import torch\n",
    "import torch.nn as nn"
   ]
  },
  {
   "cell_type": "code",
   "execution_count": null,
   "metadata": {},
   "outputs": [],
   "source": [
    "class VectorQuantizer(nn.Module):\n",
    "    \"\"\"Some Information about VectorQuantizer\"\"\"\n",
    "    def __init__(self, num_embedding, embedding_dim, commitment_loss):\n",
    "        super().__init__()\n",
    "        self.num_embedding = num_embedding\n",
    "        self.embedding_dim = embedding_dim\n",
    "        self.commitment_loss = commitment_loss\n",
    "        \n",
    "        # * 生成embedding space: [num_embedding, embedding_dim], 并赋予权重初值（均匀分布）\n",
    "        self.embedding_space = nn.Embedding(self.num_embedding, self.embedding_dim)\n",
    "        self.embedding_space.weight.data.uniform_(-1 / self.num_embedding, 1 / self.num_embedding)\n",
    "        self._mse_loss = nn.MSELoss()\n",
    "\n",
    "    def forward(self, inputs):\n",
    "        \n",
    "        # * (BCHW) -> (BHWC)\n",
    "        inputs = inputs.permute(0, 2, 3, 1).contiguous()\n",
    "        inputs_shape = inputs.shape\n",
    "        \n",
    "        # * (BHWC) -> (B*H*W, C) = (B*H*W, embedding_dim)\n",
    "        flaten_input = inputs.view(-1, self.embedding_dim)\n",
    "        \n",
    "        # * torch.sum(flaten_input ** 2, dim=1, keepdim=True) -> (B*H*W, 1)，在通道（channel）维度上做加法，将每个像素的所有通道值加起来\n",
    "        # * torch.sum(self.embedding_space.weight ** 2, dim=1) -> (num_embedding,)，同样也在通道（channel）维度上做加法，将每个嵌入向量的所有维度值加起来\n",
    "        # * distances -> (B*H*W, num_embedding)，相当于得到了一个距离举证，每行表示每个输入的像素与所有嵌入向量之间的欧式距离\n",
    "        distances = (torch.sum(flaten_input ** 2, dim=1, keepdim=True) + torch.sum(self.embedding_space.weight ** 2, dim=1) - 2 * flaten_input @ self.embedding_space.weight.transpose(1, 0))\n",
    "        \n",
    "        # * encoder_indices -> (B*H*W, 1)\n",
    "        # * encoder -> (B*H*W, num_embedding)\n",
    "        # * 利用scatter_生成一个one-hot的encoder\n",
    "        encoder_indices = torch.argmin(distances, dim=1, keepdim=True)\n",
    "        encoder = torch.zeros((encoder_indices.shape[0], self.num_embedding))\n",
    "        encoder.scatter_(dim=1, index=encoder_indices, src=1)\n",
    "        \n",
    "        # * (B*H*W, embedding_dim) -> (B, embedding_dim=C, H, W)\n",
    "        quantized = encoder @ self.embedding_space.weight\n",
    "        quantized = quantized.view(inputs_shape)\n",
    "        \n",
    "        # * e_latent_loss在反向传播的过程中，只影响inputs\n",
    "        # * q_latent_loss在反向传播的过程中，只影响quantized\n",
    "        e_latent_loss = self._mse_loss(quantized.detach(), inputs) # * 实际上就commitment loss\n",
    "        q_latent_loss = self._mse_loss(quantized, inputs.detach())\n",
    "        \n",
    "\n",
    "        return x"
   ]
  }
 ],
 "metadata": {
  "kernelspec": {
   "display_name": "base",
   "language": "python",
   "name": "python3"
  },
  "language_info": {
   "name": "python",
   "version": "3.8.12"
  }
 },
 "nbformat": 4,
 "nbformat_minor": 2
}
