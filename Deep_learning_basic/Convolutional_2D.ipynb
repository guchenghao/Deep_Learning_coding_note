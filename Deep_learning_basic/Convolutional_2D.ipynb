{
 "cells": [
  {
   "cell_type": "code",
   "execution_count": 1,
   "metadata": {},
   "outputs": [],
   "source": [
    "import numpy as np"
   ]
  },
  {
   "cell_type": "code",
   "execution_count": 6,
   "metadata": {},
   "outputs": [],
   "source": [
    "\n",
    "# * 默认 padding=0, stride=1\n",
    "def convolutional_2D(image, kernel):\n",
    "    image_height, image_width = image.shape\n",
    "    kernel_height, kernel_width = kernel.shape\n",
    "    \n",
    "    output = np.zeros((image_height - kernel_height + 1, image_width - kernel_width + 1), dtype=float) # * (2P - K) / S + 1\n",
    "    \n",
    "    for i in range(output.shape[0]):\n",
    "        for j in range(output.shape[1]):\n",
    "            # * numpy的sum函数如果不指定axis的话，试讲矩阵中所有元素相加\n",
    "            output[i, j] = np.sum(image[i:i+kernel_height, j:j+kernel_width] * kernel)\n",
    "    \n",
    "    return output"
   ]
  },
  {
   "cell_type": "code",
   "execution_count": 12,
   "metadata": {},
   "outputs": [],
   "source": [
    "def convolutional_2D_advanced(image, kernel, padding, stride):\n",
    "    image_height, image_width = image.shape\n",
    "    kernel_height, kernel_width = kernel.shape\n",
    "    \n",
    "    if isinstance(stride, int):\n",
    "        stride_height = stride\n",
    "        stride_width = stride\n",
    "    \n",
    "    else:\n",
    "        stride_height = stride[0]\n",
    "        stride_width = stride[1]\n",
    "    \n",
    "    image_padding = np.pad(image, pad_width=padding, mode=\"constant\", constant_values=0)\n",
    "    \n",
    "    output = np.zeros((image_height // stride + (2 * padding - kernel_height) // stride + 1, image_width // stride + (2 * padding - kernel_width) // stride + 1), dtype=float)\n",
    "    \n",
    "    \n",
    "    for i in range(output.shape[0], stride_height):\n",
    "        for j in range(output.shape[1], stride_width):\n",
    "            output[i, j] = np.sum(image[i:i+kernel_height, j:j+kernel_width] * kernel)\n",
    "            \n",
    "    return output\n",
    "\n"
   ]
  },
  {
   "cell_type": "code",
   "execution_count": 13,
   "metadata": {},
   "outputs": [
    {
     "name": "stdout",
     "output_type": "stream",
     "text": [
      "(18, 18)\n",
      "(10, 10)\n"
     ]
    }
   ],
   "source": [
    "x = np.random.randint(low=0, high=255, size=(20, 20))\n",
    "kernel_1 = np.random.randint(low=0, high=1, size=(3, 3))\n",
    "kernel_2 = np.random.randint(low=0, high=1, size=(4, 4))\n",
    "\n",
    "print(convolutional_2D(x, kernel_1).shape)\n",
    "print(convolutional_2D_advanced(x, kernel_2, 1, 2).shape)"
   ]
  },
  {
   "cell_type": "code",
   "execution_count": null,
   "metadata": {},
   "outputs": [],
   "source": []
  }
 ],
 "metadata": {
  "kernelspec": {
   "display_name": "base",
   "language": "python",
   "name": "python3"
  },
  "language_info": {
   "codemirror_mode": {
    "name": "ipython",
    "version": 3
   },
   "file_extension": ".py",
   "mimetype": "text/x-python",
   "name": "python",
   "nbconvert_exporter": "python",
   "pygments_lexer": "ipython3",
   "version": "3.8.12"
  }
 },
 "nbformat": 4,
 "nbformat_minor": 2
}
