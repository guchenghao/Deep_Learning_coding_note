{
 "cells": [
  {
   "cell_type": "code",
   "execution_count": 1,
   "metadata": {},
   "outputs": [],
   "source": [
    "import torch\n",
    "import torch.nn as nn"
   ]
  },
  {
   "cell_type": "markdown",
   "metadata": {},
   "source": [
    "## BatchNormalization"
   ]
  },
  {
   "cell_type": "code",
   "execution_count": null,
   "metadata": {},
   "outputs": [],
   "source": [
    "class BatchNorm_1d_2d(nn.Module):\n",
    "    \"\"\"Some Information about BatchNorm_1d_2d\"\"\"\n",
    "    def __init__(self, num_channels, num_dims):\n",
    "        super().__init__()\n",
    "\n",
    "        if num_dims == 2:\n",
    "            shape = (1, num_channels)\n",
    "\n",
    "        else:\n",
    "            shape = (1, num_channels, 1, 1)\n",
    "\n",
    "        self.gamma = nn.Parameter(torch.ones(shape))\n",
    "        self.beta = nn.Parameter(torch.zeros(shape))\n",
    "\n",
    "        self.moving_mean = torch.zeros(shape)\n",
    "        self.moving_var = torch.ones(shape)\n",
    "\n",
    "    def batch_norm(self, gamma, beta, x, moving_mean, moving_var, eps, momentum):\n",
    "        if not torch.is_grad_enabled():\n",
    "            # * 这个moving_mean和moving_var用于推理\n",
    "            x_hat = (x - moving_mean) / torch.sqrt(moving_var + eps)\n",
    "\n",
    "        else:\n",
    "            if len(x.shape) == 2:\n",
    "                cur_mean = torch.mean(x, dim=0)\n",
    "                cur_var = torch.mean((x - cur_mean) ** 2, dim=0)\n",
    "\n",
    "            else:\n",
    "\n",
    "                cur_mean = torch.mean(x, dim=(0, 2, 3), keepdim=True)\n",
    "                cur_var = torch.mean((x - cur_mean) ** 2, dim=(0,2,3), keepdim=True)\n",
    "\n",
    "            x_hat = (x - cur_mean) / torch.sqrt(cur_var + eps)\n",
    "\n",
    "            # * 这个计算方法叫做指数移动平均\n",
    "            # * 之所以采用这种方法是为了让之前计算的小批量数据的mean和variance能够贡献于全局数据的均值与方差\n",
    "            moving_mean = momentum * moving_mean + (1 - momentum) * cur_mean\n",
    "            moving_var = momentum * moving_mean + (1 - momentum) * cur_var\n",
    "\n",
    "        y = gamma * x_hat + beta\n",
    "\n",
    "        return y, moving_mean, moving_var\n",
    "\n",
    "    def forward(self, x):\n",
    "        if self.moving_mean.device != x.device:\n",
    "            self.moving_mean = self.moving_mean.to(x.device)\n",
    "            self.moving_var = self.moving_var.to(x.device)\n",
    "\n",
    "        output, self.moving_mean, self.moving_var = self.batch_norm(self.gamma, self.beta, x, self.moving_mean, self.moving_var, eps=1e-5, momentum=0.9)\n",
    "\n",
    "        return output\n",
    "\n",
    "\n",
    "x_test = torch.randn(4, 3, 64, 64)\n",
    "\n",
    "batch_norm = BatchNorm_1d_2d(3, 4)\n",
    "\n",
    "\n",
    "print(batch_norm(x_test).shape)\n",
    "\n",
    "\n",
    "x_test = torch.randn(4, 64)\n",
    "\n",
    "batch_norm = BatchNorm_1d_2d(64, 2)\n",
    "\n",
    "\n",
    "print(batch_norm(x_test).shape)"
   ]
  }
 ],
 "metadata": {
  "kernelspec": {
   "display_name": "base",
   "language": "python",
   "name": "python3"
  },
  "language_info": {
   "codemirror_mode": {
    "name": "ipython",
    "version": 3
   },
   "file_extension": ".py",
   "mimetype": "text/x-python",
   "name": "python",
   "nbconvert_exporter": "python",
   "pygments_lexer": "ipython3",
   "version": "3.9.21"
  }
 },
 "nbformat": 4,
 "nbformat_minor": 2
}
